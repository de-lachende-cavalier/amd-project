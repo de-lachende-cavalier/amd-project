{
  "nbformat": 4,
  "nbformat_minor": 0,
  "metadata": {
    "colab": {
      "provenance": [],
      "collapsed_sections": [
        "fHU7uTIWqV5W",
        "dWpx6_YyqZAQ"
      ]
    },
    "kernelspec": {
      "name": "python3",
      "display_name": "Python 3"
    },
    "language_info": {
      "name": "python"
    }
  },
  "cells": [
    {
      "cell_type": "markdown",
      "source": [
        "# Deep Learning"
      ],
      "metadata": {
        "id": "zWMJlisho5Rc"
      }
    },
    {
      "cell_type": "markdown",
      "source": [
        "### DL imports"
      ],
      "metadata": {
        "id": "fHU7uTIWqV5W"
      }
    },
    {
      "cell_type": "code",
      "source": [
        "import tensorflow as tf\n",
        "from tensorflow import keras\n",
        "from tensorflow.keras import layers"
      ],
      "metadata": {
        "id": "ykkmaXLBo4ir"
      },
      "execution_count": null,
      "outputs": []
    },
    {
      "cell_type": "markdown",
      "source": [
        "### Misc. Imports"
      ],
      "metadata": {
        "id": "dWpx6_YyqZAQ"
      }
    },
    {
      "cell_type": "code",
      "source": [
        "import matplotlib.pyplot as plt\n",
        "import pandas as pd\n",
        "import json\n",
        "import os"
      ],
      "metadata": {
        "id": "T2istzk6puTg"
      },
      "execution_count": null,
      "outputs": []
    },
    {
      "cell_type": "markdown",
      "source": [
        "## Get data from Kaggle"
      ],
      "metadata": {
        "id": "I7SH6iGNu6RT"
      }
    },
    {
      "cell_type": "code",
      "source": [
        "kaggle_username = input(\"Insert Kaggle username: \")"
      ],
      "metadata": {
        "id": "vf9T4HVpsHhJ"
      },
      "execution_count": null,
      "outputs": []
    },
    {
      "cell_type": "code",
      "source": [
        "kaggle_key = input(\"Insert Kaggle key: \")"
      ],
      "metadata": {
        "id": "SQfXsq4Kqe_Z"
      },
      "execution_count": null,
      "outputs": []
    },
    {
      "cell_type": "code",
      "source": [
        "os.environ['KAGGLE_USERNAME'] = kaggle_username\n",
        "os.environ['KAGGLE_KEY'] = kaggle_key"
      ],
      "metadata": {
        "id": "YZj7qlyvskAi"
      },
      "execution_count": null,
      "outputs": []
    },
    {
      "cell_type": "code",
      "source": [
        "!kaggle datasets download -d yelp-dataset/yelp-dataset"
      ],
      "metadata": {
        "id": "tR4ACkyBsbDr"
      },
      "execution_count": null,
      "outputs": []
    },
    {
      "cell_type": "code",
      "source": [
        "!mkdir yelp-data\n",
        "!mv yelp-dataset.zip yelp-data\n",
        "!unzip yelp-dataset.zip"
      ],
      "metadata": {
        "id": "fUVTpNSIuAxi"
      },
      "execution_count": null,
      "outputs": []
    },
    {
      "cell_type": "markdown",
      "source": [
        "## Examine and plot it"
      ],
      "metadata": {
        "id": "CYQLXpBlvBLK"
      }
    },
    {
      "cell_type": "code",
      "source": [],
      "metadata": {
        "id": "JIzysBzVvDm5"
      },
      "execution_count": null,
      "outputs": []
    },
    {
      "cell_type": "markdown",
      "source": [
        "## Find correct architecture"
      ],
      "metadata": {
        "id": "e0KxeRiXvEVX"
      }
    },
    {
      "cell_type": "code",
      "source": [],
      "metadata": {
        "id": "jRZR_3cWvJMj"
      },
      "execution_count": null,
      "outputs": []
    },
    {
      "cell_type": "markdown",
      "source": [
        "## Train"
      ],
      "metadata": {
        "id": "36jPxpDYvJj_"
      }
    },
    {
      "cell_type": "code",
      "source": [],
      "metadata": {
        "id": "ZCnoa2-evKSl"
      },
      "execution_count": null,
      "outputs": []
    },
    {
      "cell_type": "markdown",
      "source": [
        "## Evaluate"
      ],
      "metadata": {
        "id": "G0ElNwmFvKmL"
      }
    },
    {
      "cell_type": "code",
      "source": [],
      "metadata": {
        "id": "j3ya_0hKvLVy"
      },
      "execution_count": null,
      "outputs": []
    }
  ]
}