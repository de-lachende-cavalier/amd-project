{
  "cells": [
    {
      "attachments": {},
      "cell_type": "markdown",
      "metadata": {
        "id": "zWMJlisho5Rc"
      },
      "source": [
        "# Deep Learning"
      ]
    },
    {
      "attachments": {},
      "cell_type": "markdown",
      "metadata": {
        "id": "fHU7uTIWqV5W"
      },
      "source": [
        "### DL imports"
      ]
    },
    {
      "cell_type": "code",
      "execution_count": 1,
      "metadata": {},
      "outputs": [
        {
          "name": "stdout",
          "output_type": "stream",
          "text": [
            "Requirement already satisfied: tensorflow in /opt/homebrew/lib/python3.11/site-packages (2.13.0rc1)\n",
            "Requirement already satisfied: matplotlib in /opt/homebrew/lib/python3.11/site-packages (3.7.1)\n",
            "Requirement already satisfied: pandas in /opt/homebrew/lib/python3.11/site-packages (2.0.2)\n",
            "Requirement already satisfied: folium in /opt/homebrew/lib/python3.11/site-packages (0.14.0)\n",
            "Requirement already satisfied: kaggle in /opt/homebrew/lib/python3.11/site-packages (1.5.13)\n",
            "Requirement already satisfied: scikit-learn in /opt/homebrew/lib/python3.11/site-packages (1.2.2)\n",
            "Requirement already satisfied: tensorflow-macos==2.13.0-rc1 in /opt/homebrew/lib/python3.11/site-packages (from tensorflow) (2.13.0rc1)\n",
            "Requirement already satisfied: absl-py>=1.0.0 in /opt/homebrew/lib/python3.11/site-packages (from tensorflow-macos==2.13.0-rc1->tensorflow) (1.4.0)\n",
            "Requirement already satisfied: astunparse>=1.6.0 in /opt/homebrew/lib/python3.11/site-packages (from tensorflow-macos==2.13.0-rc1->tensorflow) (1.6.3)\n",
            "Requirement already satisfied: flatbuffers>=23.1.21 in /opt/homebrew/lib/python3.11/site-packages (from tensorflow-macos==2.13.0-rc1->tensorflow) (23.5.26)\n",
            "Requirement already satisfied: gast<=0.4.0,>=0.2.1 in /opt/homebrew/lib/python3.11/site-packages (from tensorflow-macos==2.13.0-rc1->tensorflow) (0.4.0)\n",
            "Requirement already satisfied: google-pasta>=0.1.1 in /opt/homebrew/lib/python3.11/site-packages (from tensorflow-macos==2.13.0-rc1->tensorflow) (0.2.0)\n",
            "Requirement already satisfied: h5py>=2.9.0 in /opt/homebrew/lib/python3.11/site-packages (from tensorflow-macos==2.13.0-rc1->tensorflow) (3.8.0)\n",
            "Requirement already satisfied: libclang>=13.0.0 in /opt/homebrew/lib/python3.11/site-packages (from tensorflow-macos==2.13.0-rc1->tensorflow) (16.0.0)\n",
            "Requirement already satisfied: numpy>=1.22 in /opt/homebrew/lib/python3.11/site-packages (from tensorflow-macos==2.13.0-rc1->tensorflow) (1.24.3)\n",
            "Requirement already satisfied: opt-einsum>=2.3.2 in /opt/homebrew/lib/python3.11/site-packages (from tensorflow-macos==2.13.0-rc1->tensorflow) (3.3.0)\n",
            "Requirement already satisfied: packaging in /Users/johndoe/Library/Python/3.11/lib/python/site-packages (from tensorflow-macos==2.13.0-rc1->tensorflow) (23.1)\n",
            "Requirement already satisfied: protobuf!=4.21.0,!=4.21.1,!=4.21.2,!=4.21.3,!=4.21.4,!=4.21.5,<5.0.0dev,>=3.20.3 in /opt/homebrew/lib/python3.11/site-packages (from tensorflow-macos==2.13.0-rc1->tensorflow) (4.23.2)\n",
            "Requirement already satisfied: setuptools in /opt/homebrew/lib/python3.11/site-packages (from tensorflow-macos==2.13.0-rc1->tensorflow) (67.6.1)\n",
            "Requirement already satisfied: six>=1.12.0 in /opt/homebrew/lib/python3.11/site-packages (from tensorflow-macos==2.13.0-rc1->tensorflow) (1.16.0)\n",
            "Requirement already satisfied: termcolor>=1.1.0 in /opt/homebrew/lib/python3.11/site-packages (from tensorflow-macos==2.13.0-rc1->tensorflow) (2.3.0)\n",
            "Requirement already satisfied: typing-extensions>=3.6.6 in /opt/homebrew/lib/python3.11/site-packages (from tensorflow-macos==2.13.0-rc1->tensorflow) (4.6.3)\n",
            "Requirement already satisfied: wrapt>=1.11.0 in /opt/homebrew/lib/python3.11/site-packages (from tensorflow-macos==2.13.0-rc1->tensorflow) (1.15.0)\n",
            "Requirement already satisfied: grpcio<2.0,>=1.24.3 in /opt/homebrew/lib/python3.11/site-packages (from tensorflow-macos==2.13.0-rc1->tensorflow) (1.54.2)\n",
            "Requirement already satisfied: tensorboard<2.14,>=2.13 in /opt/homebrew/lib/python3.11/site-packages (from tensorflow-macos==2.13.0-rc1->tensorflow) (2.13.0)\n",
            "Requirement already satisfied: tensorflow-estimator<2.14,>=2.13.0rc0 in /opt/homebrew/lib/python3.11/site-packages (from tensorflow-macos==2.13.0-rc1->tensorflow) (2.13.0rc0)\n",
            "Requirement already satisfied: keras<2.14,>=2.13.1rc0 in /opt/homebrew/lib/python3.11/site-packages (from tensorflow-macos==2.13.0-rc1->tensorflow) (2.13.1rc0)\n",
            "Requirement already satisfied: contourpy>=1.0.1 in /opt/homebrew/lib/python3.11/site-packages (from matplotlib) (1.0.7)\n",
            "Requirement already satisfied: cycler>=0.10 in /opt/homebrew/lib/python3.11/site-packages (from matplotlib) (0.11.0)\n",
            "Requirement already satisfied: fonttools>=4.22.0 in /opt/homebrew/lib/python3.11/site-packages (from matplotlib) (4.39.4)\n",
            "Requirement already satisfied: kiwisolver>=1.0.1 in /opt/homebrew/lib/python3.11/site-packages (from matplotlib) (1.4.4)\n",
            "Requirement already satisfied: pillow>=6.2.0 in /opt/homebrew/lib/python3.11/site-packages (from matplotlib) (9.5.0)\n",
            "Requirement already satisfied: pyparsing>=2.3.1 in /opt/homebrew/lib/python3.11/site-packages (from matplotlib) (3.0.9)\n",
            "Requirement already satisfied: python-dateutil>=2.7 in /Users/johndoe/Library/Python/3.11/lib/python/site-packages (from matplotlib) (2.8.2)\n",
            "Requirement already satisfied: pytz>=2020.1 in /opt/homebrew/lib/python3.11/site-packages (from pandas) (2023.3)\n",
            "Requirement already satisfied: tzdata>=2022.1 in /opt/homebrew/lib/python3.11/site-packages (from pandas) (2023.3)\n",
            "Requirement already satisfied: branca>=0.6.0 in /opt/homebrew/lib/python3.11/site-packages (from folium) (0.6.0)\n",
            "Requirement already satisfied: jinja2>=2.9 in /opt/homebrew/lib/python3.11/site-packages (from folium) (3.1.2)\n",
            "Requirement already satisfied: requests in /opt/homebrew/lib/python3.11/site-packages (from folium) (2.31.0)\n",
            "Requirement already satisfied: certifi in /opt/homebrew/lib/python3.11/site-packages (from kaggle) (2023.5.7)\n",
            "Requirement already satisfied: tqdm in /opt/homebrew/lib/python3.11/site-packages (from kaggle) (4.65.0)\n",
            "Requirement already satisfied: python-slugify in /opt/homebrew/lib/python3.11/site-packages (from kaggle) (8.0.1)\n",
            "Requirement already satisfied: urllib3 in /opt/homebrew/lib/python3.11/site-packages (from kaggle) (1.26.16)\n",
            "Requirement already satisfied: scipy>=1.3.2 in /opt/homebrew/lib/python3.11/site-packages (from scikit-learn) (1.10.1)\n",
            "Requirement already satisfied: joblib>=1.1.1 in /opt/homebrew/lib/python3.11/site-packages (from scikit-learn) (1.2.0)\n",
            "Requirement already satisfied: threadpoolctl>=2.0.0 in /opt/homebrew/lib/python3.11/site-packages (from scikit-learn) (3.1.0)\n",
            "Requirement already satisfied: MarkupSafe>=2.0 in /opt/homebrew/lib/python3.11/site-packages (from jinja2>=2.9->folium) (2.1.3)\n",
            "Requirement already satisfied: text-unidecode>=1.3 in /opt/homebrew/lib/python3.11/site-packages (from python-slugify->kaggle) (1.3)\n",
            "Requirement already satisfied: charset-normalizer<4,>=2 in /opt/homebrew/lib/python3.11/site-packages (from requests->folium) (3.1.0)\n",
            "Requirement already satisfied: idna<4,>=2.5 in /opt/homebrew/lib/python3.11/site-packages (from requests->folium) (3.4)\n",
            "Requirement already satisfied: wheel<1.0,>=0.23.0 in /opt/homebrew/lib/python3.11/site-packages (from astunparse>=1.6.0->tensorflow-macos==2.13.0-rc1->tensorflow) (0.40.0)\n",
            "Requirement already satisfied: google-auth<3,>=1.6.3 in /opt/homebrew/lib/python3.11/site-packages (from tensorboard<2.14,>=2.13->tensorflow-macos==2.13.0-rc1->tensorflow) (2.19.1)\n",
            "Requirement already satisfied: google-auth-oauthlib<1.1,>=0.5 in /opt/homebrew/lib/python3.11/site-packages (from tensorboard<2.14,>=2.13->tensorflow-macos==2.13.0-rc1->tensorflow) (1.0.0)\n",
            "Requirement already satisfied: markdown>=2.6.8 in /opt/homebrew/lib/python3.11/site-packages (from tensorboard<2.14,>=2.13->tensorflow-macos==2.13.0-rc1->tensorflow) (3.4.3)\n",
            "Requirement already satisfied: tensorboard-data-server<0.8.0,>=0.7.0 in /opt/homebrew/lib/python3.11/site-packages (from tensorboard<2.14,>=2.13->tensorflow-macos==2.13.0-rc1->tensorflow) (0.7.0)\n",
            "Requirement already satisfied: werkzeug>=1.0.1 in /opt/homebrew/lib/python3.11/site-packages (from tensorboard<2.14,>=2.13->tensorflow-macos==2.13.0-rc1->tensorflow) (2.3.4)\n",
            "Requirement already satisfied: cachetools<6.0,>=2.0.0 in /opt/homebrew/lib/python3.11/site-packages (from google-auth<3,>=1.6.3->tensorboard<2.14,>=2.13->tensorflow-macos==2.13.0-rc1->tensorflow) (5.3.1)\n",
            "Requirement already satisfied: pyasn1-modules>=0.2.1 in /opt/homebrew/lib/python3.11/site-packages (from google-auth<3,>=1.6.3->tensorboard<2.14,>=2.13->tensorflow-macos==2.13.0-rc1->tensorflow) (0.3.0)\n",
            "Requirement already satisfied: rsa<5,>=3.1.4 in /opt/homebrew/lib/python3.11/site-packages (from google-auth<3,>=1.6.3->tensorboard<2.14,>=2.13->tensorflow-macos==2.13.0-rc1->tensorflow) (4.9)\n",
            "Requirement already satisfied: requests-oauthlib>=0.7.0 in /opt/homebrew/lib/python3.11/site-packages (from google-auth-oauthlib<1.1,>=0.5->tensorboard<2.14,>=2.13->tensorflow-macos==2.13.0-rc1->tensorflow) (1.3.1)\n",
            "Requirement already satisfied: pyasn1<0.6.0,>=0.4.6 in /opt/homebrew/lib/python3.11/site-packages (from pyasn1-modules>=0.2.1->google-auth<3,>=1.6.3->tensorboard<2.14,>=2.13->tensorflow-macos==2.13.0-rc1->tensorflow) (0.5.0)\n",
            "Requirement already satisfied: oauthlib>=3.0.0 in /opt/homebrew/lib/python3.11/site-packages (from requests-oauthlib>=0.7.0->google-auth-oauthlib<1.1,>=0.5->tensorboard<2.14,>=2.13->tensorflow-macos==2.13.0-rc1->tensorflow) (3.2.2)\n",
            "\n",
            "\u001b[1m[\u001b[0m\u001b[34;49mnotice\u001b[0m\u001b[1;39;49m]\u001b[0m\u001b[39;49m A new release of pip is available: \u001b[0m\u001b[31;49m23.0.1\u001b[0m\u001b[39;49m -> \u001b[0m\u001b[32;49m23.1.2\u001b[0m\n",
            "\u001b[1m[\u001b[0m\u001b[34;49mnotice\u001b[0m\u001b[1;39;49m]\u001b[0m\u001b[39;49m To update, run: \u001b[0m\u001b[32;49mpython3.11 -m pip install --upgrade pip\u001b[0m\n",
            "Note: you may need to restart the kernel to use updated packages.\n"
          ]
        }
      ],
      "source": [
        "# just to make sure that all libraries are available\n",
        "%pip install tensorflow matplotlib pandas folium kaggle scikit-learn"
      ]
    },
    {
      "cell_type": "code",
      "execution_count": 24,
      "metadata": {
        "id": "ykkmaXLBo4ir"
      },
      "outputs": [],
      "source": [
        "import tensorflow as tf\n",
        "from tensorflow import keras\n",
        "from tensorflow.keras import layers\n",
        "from sklearn.model_selection import train_test_split\n",
        "from tensorflow.keras.preprocessing.sequence import pad_sequences"
      ]
    },
    {
      "attachments": {},
      "cell_type": "markdown",
      "metadata": {
        "id": "dWpx6_YyqZAQ"
      },
      "source": [
        "### Misc. Imports"
      ]
    },
    {
      "cell_type": "code",
      "execution_count": 3,
      "metadata": {
        "id": "T2istzk6puTg"
      },
      "outputs": [],
      "source": [
        "import matplotlib.pyplot as plt\n",
        "import pandas as pd\n",
        "import json\n",
        "import os\n",
        "import math\n",
        "import string"
      ]
    },
    {
      "attachments": {},
      "cell_type": "markdown",
      "metadata": {
        "id": "I7SH6iGNu6RT"
      },
      "source": [
        "## Get data from Kaggle"
      ]
    },
    {
      "cell_type": "code",
      "execution_count": 4,
      "metadata": {
        "id": "Pbu2QhlP0K6V"
      },
      "outputs": [],
      "source": [
        "os.environ['KAGGLE_USERNAME'] = \"x\"\n",
        "os.environ['KAGGLE_KEY'] = \"x\""
      ]
    },
    {
      "cell_type": "code",
      "execution_count": 5,
      "metadata": {
        "colab": {
          "base_uri": "https://localhost:8080/"
        },
        "id": "tR4ACkyBsbDr",
        "outputId": "c2cfa626-a679-41fa-9cad-58780d257404"
      },
      "outputs": [
        {
          "name": "stdout",
          "output_type": "stream",
          "text": [
            "401 - Unauthorized\n"
          ]
        }
      ],
      "source": [
        "!kaggle datasets download -d yelp-dataset/yelp-dataset"
      ]
    },
    {
      "cell_type": "code",
      "execution_count": 6,
      "metadata": {
        "colab": {
          "base_uri": "https://localhost:8080/"
        },
        "id": "fUVTpNSIuAxi",
        "outputId": "1488e687-06f2-479e-fa75-949eeffdffd6"
      },
      "outputs": [
        {
          "name": "stdout",
          "output_type": "stream",
          "text": [
            "mkdir: yelp-data: File exists\n",
            "Archive:  yelp-dataset.zip\n",
            "replace yelp-data/Dataset_User_Agreement.pdf? [y]es, [n]o, [A]ll, [N]one, [r]ename: ^C\n"
          ]
        }
      ],
      "source": [
        "!mkdir yelp-data\n",
        "!unzip -d yelp-data yelp-dataset.zip"
      ]
    },
    {
      "attachments": {},
      "cell_type": "markdown",
      "metadata": {
        "id": "CYQLXpBlvBLK"
      },
      "source": [
        "## Examine and plot it"
      ]
    },
    {
      "cell_type": "code",
      "execution_count": 7,
      "metadata": {
        "id": "JIzysBzVvDm5"
      },
      "outputs": [],
      "source": [
        "data_dir = \"yelp-data/\" # splitting data up like this might be useful for later (in case i want to use other files)\n",
        "target_file = \"yelp_academic_dataset_review.json\""
      ]
    },
    {
      "cell_type": "code",
      "execution_count": 8,
      "metadata": {
        "id": "zNnPZThN2IpG"
      },
      "outputs": [],
      "source": [
        "data_file = data_dir + target_file"
      ]
    },
    {
      "cell_type": "code",
      "execution_count": 9,
      "metadata": {
        "id": "Oiur7fZZ4gzP"
      },
      "outputs": [],
      "source": [
        "def read_to_dataframe(data_file, max_nl = 100_000):\n",
        "  data = []\n",
        "  with open(data_file) as f:\n",
        "    nl = 0\n",
        "  \n",
        "    for line in f:\n",
        "      data.append(json.loads(line))\n",
        "    \n",
        "      nl += 1\n",
        "      if nl >= max_nl:\n",
        "        break\n",
        "\n",
        "  return pd.DataFrame(data)"
      ]
    },
    {
      "cell_type": "code",
      "execution_count": 10,
      "metadata": {
        "id": "hiLSqcOG7gYj"
      },
      "outputs": [],
      "source": [
        "data_df = read_to_dataframe(data_file)"
      ]
    },
    {
      "cell_type": "code",
      "execution_count": 11,
      "metadata": {
        "colab": {
          "base_uri": "https://localhost:8080/",
          "height": 201
        },
        "id": "1PUppzbb3Xyc",
        "outputId": "57ea4890-835f-4b8a-bd3d-8fdd4ae745c3"
      },
      "outputs": [
        {
          "data": {
            "text/html": [
              "<div>\n",
              "<style scoped>\n",
              "    .dataframe tbody tr th:only-of-type {\n",
              "        vertical-align: middle;\n",
              "    }\n",
              "\n",
              "    .dataframe tbody tr th {\n",
              "        vertical-align: top;\n",
              "    }\n",
              "\n",
              "    .dataframe thead th {\n",
              "        text-align: right;\n",
              "    }\n",
              "</style>\n",
              "<table border=\"1\" class=\"dataframe\">\n",
              "  <thead>\n",
              "    <tr style=\"text-align: right;\">\n",
              "      <th></th>\n",
              "      <th>review_id</th>\n",
              "      <th>user_id</th>\n",
              "      <th>business_id</th>\n",
              "      <th>stars</th>\n",
              "      <th>useful</th>\n",
              "      <th>funny</th>\n",
              "      <th>cool</th>\n",
              "      <th>text</th>\n",
              "      <th>date</th>\n",
              "    </tr>\n",
              "  </thead>\n",
              "  <tbody>\n",
              "    <tr>\n",
              "      <th>0</th>\n",
              "      <td>KU_O5udG6zpxOg-VcAEodg</td>\n",
              "      <td>mh_-eMZ6K5RLWhZyISBhwA</td>\n",
              "      <td>XQfwVwDr-v0ZS3_CbbE5Xw</td>\n",
              "      <td>3.0</td>\n",
              "      <td>0</td>\n",
              "      <td>0</td>\n",
              "      <td>0</td>\n",
              "      <td>If you decide to eat here, just be aware it is...</td>\n",
              "      <td>2018-07-07 22:09:11</td>\n",
              "    </tr>\n",
              "    <tr>\n",
              "      <th>1</th>\n",
              "      <td>BiTunyQ73aT9WBnpR9DZGw</td>\n",
              "      <td>OyoGAe7OKpv6SyGZT5g77Q</td>\n",
              "      <td>7ATYjTIgM3jUlt4UM3IypQ</td>\n",
              "      <td>5.0</td>\n",
              "      <td>1</td>\n",
              "      <td>0</td>\n",
              "      <td>1</td>\n",
              "      <td>I've taken a lot of spin classes over the year...</td>\n",
              "      <td>2012-01-03 15:28:18</td>\n",
              "    </tr>\n",
              "    <tr>\n",
              "      <th>2</th>\n",
              "      <td>saUsX_uimxRlCVr67Z4Jig</td>\n",
              "      <td>8g_iMtfSiwikVnbP2etR0A</td>\n",
              "      <td>YjUWPpI6HXG530lwP-fb2A</td>\n",
              "      <td>3.0</td>\n",
              "      <td>0</td>\n",
              "      <td>0</td>\n",
              "      <td>0</td>\n",
              "      <td>Family diner. Had the buffet. Eclectic assortm...</td>\n",
              "      <td>2014-02-05 20:30:30</td>\n",
              "    </tr>\n",
              "    <tr>\n",
              "      <th>3</th>\n",
              "      <td>AqPFMleE6RsU23_auESxiA</td>\n",
              "      <td>_7bHUi9Uuf5__HHc_Q8guQ</td>\n",
              "      <td>kxX2SOes4o-D3ZQBkiMRfA</td>\n",
              "      <td>5.0</td>\n",
              "      <td>1</td>\n",
              "      <td>0</td>\n",
              "      <td>1</td>\n",
              "      <td>Wow!  Yummy, different,  delicious.   Our favo...</td>\n",
              "      <td>2015-01-04 00:01:03</td>\n",
              "    </tr>\n",
              "    <tr>\n",
              "      <th>4</th>\n",
              "      <td>Sx8TMOWLNuJBWer-0pcmoA</td>\n",
              "      <td>bcjbaE6dDog4jkNY91ncLQ</td>\n",
              "      <td>e4Vwtrqf-wpJfwesgvdgxQ</td>\n",
              "      <td>4.0</td>\n",
              "      <td>1</td>\n",
              "      <td>0</td>\n",
              "      <td>1</td>\n",
              "      <td>Cute interior and owner (?) gave us tour of up...</td>\n",
              "      <td>2017-01-14 20:54:15</td>\n",
              "    </tr>\n",
              "  </tbody>\n",
              "</table>\n",
              "</div>"
            ],
            "text/plain": [
              "                review_id                 user_id             business_id  \\\n",
              "0  KU_O5udG6zpxOg-VcAEodg  mh_-eMZ6K5RLWhZyISBhwA  XQfwVwDr-v0ZS3_CbbE5Xw   \n",
              "1  BiTunyQ73aT9WBnpR9DZGw  OyoGAe7OKpv6SyGZT5g77Q  7ATYjTIgM3jUlt4UM3IypQ   \n",
              "2  saUsX_uimxRlCVr67Z4Jig  8g_iMtfSiwikVnbP2etR0A  YjUWPpI6HXG530lwP-fb2A   \n",
              "3  AqPFMleE6RsU23_auESxiA  _7bHUi9Uuf5__HHc_Q8guQ  kxX2SOes4o-D3ZQBkiMRfA   \n",
              "4  Sx8TMOWLNuJBWer-0pcmoA  bcjbaE6dDog4jkNY91ncLQ  e4Vwtrqf-wpJfwesgvdgxQ   \n",
              "\n",
              "   stars  useful  funny  cool  \\\n",
              "0    3.0       0      0     0   \n",
              "1    5.0       1      0     1   \n",
              "2    3.0       0      0     0   \n",
              "3    5.0       1      0     1   \n",
              "4    4.0       1      0     1   \n",
              "\n",
              "                                                text                 date  \n",
              "0  If you decide to eat here, just be aware it is...  2018-07-07 22:09:11  \n",
              "1  I've taken a lot of spin classes over the year...  2012-01-03 15:28:18  \n",
              "2  Family diner. Had the buffet. Eclectic assortm...  2014-02-05 20:30:30  \n",
              "3  Wow!  Yummy, different,  delicious.   Our favo...  2015-01-04 00:01:03  \n",
              "4  Cute interior and owner (?) gave us tour of up...  2017-01-14 20:54:15  "
            ]
          },
          "execution_count": 11,
          "metadata": {},
          "output_type": "execute_result"
        }
      ],
      "source": [
        "data_df.head() # to get an idea as to what we're dealing with"
      ]
    },
    {
      "cell_type": "code",
      "execution_count": 12,
      "metadata": {
        "colab": {
          "base_uri": "https://localhost:8080/"
        },
        "id": "Du5E8Mda5Kcy",
        "outputId": "816de14f-2661-4b9a-afa7-4fc5f6927ad6"
      },
      "outputs": [
        {
          "name": "stdout",
          "output_type": "stream",
          "text": [
            "<class 'pandas.core.frame.DataFrame'>\n",
            "RangeIndex: 100000 entries, 0 to 99999\n",
            "Data columns (total 9 columns):\n",
            " #   Column       Non-Null Count   Dtype  \n",
            "---  ------       --------------   -----  \n",
            " 0   review_id    100000 non-null  object \n",
            " 1   user_id      100000 non-null  object \n",
            " 2   business_id  100000 non-null  object \n",
            " 3   stars        100000 non-null  float64\n",
            " 4   useful       100000 non-null  int64  \n",
            " 5   funny        100000 non-null  int64  \n",
            " 6   cool         100000 non-null  int64  \n",
            " 7   text         100000 non-null  object \n",
            " 8   date         100000 non-null  object \n",
            "dtypes: float64(1), int64(3), object(5)\n",
            "memory usage: 6.9+ MB\n"
          ]
        }
      ],
      "source": [
        "data_df.info() # all entries are non-null! "
      ]
    },
    {
      "cell_type": "code",
      "execution_count": 13,
      "metadata": {
        "colab": {
          "base_uri": "https://localhost:8080/",
          "height": 291
        },
        "id": "BZDXyY4L6T5f",
        "outputId": "122a3f71-0b52-43fc-fd97-344febfa84be"
      },
      "outputs": [
        {
          "data": {
            "text/html": [
              "<div>\n",
              "<style scoped>\n",
              "    .dataframe tbody tr th:only-of-type {\n",
              "        vertical-align: middle;\n",
              "    }\n",
              "\n",
              "    .dataframe tbody tr th {\n",
              "        vertical-align: top;\n",
              "    }\n",
              "\n",
              "    .dataframe thead th {\n",
              "        text-align: right;\n",
              "    }\n",
              "</style>\n",
              "<table border=\"1\" class=\"dataframe\">\n",
              "  <thead>\n",
              "    <tr style=\"text-align: right;\">\n",
              "      <th></th>\n",
              "      <th>stars</th>\n",
              "      <th>useful</th>\n",
              "      <th>funny</th>\n",
              "      <th>cool</th>\n",
              "    </tr>\n",
              "  </thead>\n",
              "  <tbody>\n",
              "    <tr>\n",
              "      <th>count</th>\n",
              "      <td>100000.000000</td>\n",
              "      <td>100000.000000</td>\n",
              "      <td>100000.000000</td>\n",
              "      <td>100000.000000</td>\n",
              "    </tr>\n",
              "    <tr>\n",
              "      <th>mean</th>\n",
              "      <td>3.842910</td>\n",
              "      <td>0.898980</td>\n",
              "      <td>0.257180</td>\n",
              "      <td>0.347030</td>\n",
              "    </tr>\n",
              "    <tr>\n",
              "      <th>std</th>\n",
              "      <td>1.354729</td>\n",
              "      <td>2.205186</td>\n",
              "      <td>1.010212</td>\n",
              "      <td>1.066382</td>\n",
              "    </tr>\n",
              "    <tr>\n",
              "      <th>min</th>\n",
              "      <td>1.000000</td>\n",
              "      <td>0.000000</td>\n",
              "      <td>0.000000</td>\n",
              "      <td>0.000000</td>\n",
              "    </tr>\n",
              "    <tr>\n",
              "      <th>25%</th>\n",
              "      <td>3.000000</td>\n",
              "      <td>0.000000</td>\n",
              "      <td>0.000000</td>\n",
              "      <td>0.000000</td>\n",
              "    </tr>\n",
              "    <tr>\n",
              "      <th>50%</th>\n",
              "      <td>4.000000</td>\n",
              "      <td>0.000000</td>\n",
              "      <td>0.000000</td>\n",
              "      <td>0.000000</td>\n",
              "    </tr>\n",
              "    <tr>\n",
              "      <th>75%</th>\n",
              "      <td>5.000000</td>\n",
              "      <td>1.000000</td>\n",
              "      <td>0.000000</td>\n",
              "      <td>0.000000</td>\n",
              "    </tr>\n",
              "    <tr>\n",
              "      <th>max</th>\n",
              "      <td>5.000000</td>\n",
              "      <td>320.000000</td>\n",
              "      <td>98.000000</td>\n",
              "      <td>49.000000</td>\n",
              "    </tr>\n",
              "  </tbody>\n",
              "</table>\n",
              "</div>"
            ],
            "text/plain": [
              "               stars         useful          funny           cool\n",
              "count  100000.000000  100000.000000  100000.000000  100000.000000\n",
              "mean        3.842910       0.898980       0.257180       0.347030\n",
              "std         1.354729       2.205186       1.010212       1.066382\n",
              "min         1.000000       0.000000       0.000000       0.000000\n",
              "25%         3.000000       0.000000       0.000000       0.000000\n",
              "50%         4.000000       0.000000       0.000000       0.000000\n",
              "75%         5.000000       1.000000       0.000000       0.000000\n",
              "max         5.000000     320.000000      98.000000      49.000000"
            ]
          },
          "execution_count": 13,
          "metadata": {},
          "output_type": "execute_result"
        }
      ],
      "source": [
        "data_df.describe()"
      ]
    },
    {
      "attachments": {},
      "cell_type": "markdown",
      "metadata": {
        "id": "xLTP6sn76yOS"
      },
      "source": [
        "I don't particularly like the identifiers used in this dataframe, so I'll join this data with the data containing additional information about them so that we get much more meaningful and human-friendly data."
      ]
    },
    {
      "cell_type": "code",
      "execution_count": 15,
      "metadata": {
        "id": "FQuI9v0i7HKn"
      },
      "outputs": [],
      "source": [
        "business_file = \"yelp_academic_dataset_business.json\"\n",
        "\n",
        "business_df = read_to_dataframe(data_dir + business_file, max_nl=math.inf) # no need to set a limit (the file is 113MB large)\n",
        "business_df.drop([\"stars\"], axis=1, inplace=True) # this is the rating of the businesses (we don't care about that)"
      ]
    },
    {
      "cell_type": "code",
      "execution_count": 16,
      "metadata": {
        "id": "tO9G9C5p8-Yd"
      },
      "outputs": [],
      "source": [
        "rich_data = pd.merge(data_df, business_df, on=\"business_id\")"
      ]
    },
    {
      "cell_type": "code",
      "execution_count": 17,
      "metadata": {
        "colab": {
          "base_uri": "https://localhost:8080/",
          "height": 770
        },
        "id": "GMPsIqKf_ezk",
        "outputId": "ab348b4e-69b6-489f-fe2c-0ccb51ed01d0"
      },
      "outputs": [
        {
          "data": {
            "text/html": [
              "<div>\n",
              "<style scoped>\n",
              "    .dataframe tbody tr th:only-of-type {\n",
              "        vertical-align: middle;\n",
              "    }\n",
              "\n",
              "    .dataframe tbody tr th {\n",
              "        vertical-align: top;\n",
              "    }\n",
              "\n",
              "    .dataframe thead th {\n",
              "        text-align: right;\n",
              "    }\n",
              "</style>\n",
              "<table border=\"1\" class=\"dataframe\">\n",
              "  <thead>\n",
              "    <tr style=\"text-align: right;\">\n",
              "      <th></th>\n",
              "      <th>review_id</th>\n",
              "      <th>user_id</th>\n",
              "      <th>business_id</th>\n",
              "      <th>stars</th>\n",
              "      <th>useful</th>\n",
              "      <th>funny</th>\n",
              "      <th>cool</th>\n",
              "      <th>text</th>\n",
              "      <th>date</th>\n",
              "      <th>name</th>\n",
              "      <th>...</th>\n",
              "      <th>city</th>\n",
              "      <th>state</th>\n",
              "      <th>postal_code</th>\n",
              "      <th>latitude</th>\n",
              "      <th>longitude</th>\n",
              "      <th>review_count</th>\n",
              "      <th>is_open</th>\n",
              "      <th>attributes</th>\n",
              "      <th>categories</th>\n",
              "      <th>hours</th>\n",
              "    </tr>\n",
              "  </thead>\n",
              "  <tbody>\n",
              "    <tr>\n",
              "      <th>0</th>\n",
              "      <td>KU_O5udG6zpxOg-VcAEodg</td>\n",
              "      <td>mh_-eMZ6K5RLWhZyISBhwA</td>\n",
              "      <td>XQfwVwDr-v0ZS3_CbbE5Xw</td>\n",
              "      <td>3.0</td>\n",
              "      <td>0</td>\n",
              "      <td>0</td>\n",
              "      <td>0</td>\n",
              "      <td>If you decide to eat here, just be aware it is...</td>\n",
              "      <td>2018-07-07 22:09:11</td>\n",
              "      <td>Turning Point of North Wales</td>\n",
              "      <td>...</td>\n",
              "      <td>North Wales</td>\n",
              "      <td>PA</td>\n",
              "      <td>19454</td>\n",
              "      <td>40.210196</td>\n",
              "      <td>-75.223639</td>\n",
              "      <td>169</td>\n",
              "      <td>1</td>\n",
              "      <td>{'NoiseLevel': 'u'average'', 'HasTV': 'False',...</td>\n",
              "      <td>Restaurants, Breakfast &amp; Brunch, Food, Juice B...</td>\n",
              "      <td>{'Monday': '7:30-15:0', 'Tuesday': '7:30-15:0'...</td>\n",
              "    </tr>\n",
              "    <tr>\n",
              "      <th>1</th>\n",
              "      <td>VJxlBnJmCDIy8DFG0kjSow</td>\n",
              "      <td>Iaee7y6zdSB3B-kRCo4z1w</td>\n",
              "      <td>XQfwVwDr-v0ZS3_CbbE5Xw</td>\n",
              "      <td>2.0</td>\n",
              "      <td>0</td>\n",
              "      <td>0</td>\n",
              "      <td>0</td>\n",
              "      <td>This is the second time we tried turning point...</td>\n",
              "      <td>2017-05-13 17:06:55</td>\n",
              "      <td>Turning Point of North Wales</td>\n",
              "      <td>...</td>\n",
              "      <td>North Wales</td>\n",
              "      <td>PA</td>\n",
              "      <td>19454</td>\n",
              "      <td>40.210196</td>\n",
              "      <td>-75.223639</td>\n",
              "      <td>169</td>\n",
              "      <td>1</td>\n",
              "      <td>{'NoiseLevel': 'u'average'', 'HasTV': 'False',...</td>\n",
              "      <td>Restaurants, Breakfast &amp; Brunch, Food, Juice B...</td>\n",
              "      <td>{'Monday': '7:30-15:0', 'Tuesday': '7:30-15:0'...</td>\n",
              "    </tr>\n",
              "    <tr>\n",
              "      <th>2</th>\n",
              "      <td>S6pQZQocMB1WHMjTRbt77A</td>\n",
              "      <td>ejFxLGqQcWNLdNByJlIhnQ</td>\n",
              "      <td>XQfwVwDr-v0ZS3_CbbE5Xw</td>\n",
              "      <td>4.0</td>\n",
              "      <td>2</td>\n",
              "      <td>0</td>\n",
              "      <td>1</td>\n",
              "      <td>The place is cute and the staff was very frien...</td>\n",
              "      <td>2017-08-08 00:58:18</td>\n",
              "      <td>Turning Point of North Wales</td>\n",
              "      <td>...</td>\n",
              "      <td>North Wales</td>\n",
              "      <td>PA</td>\n",
              "      <td>19454</td>\n",
              "      <td>40.210196</td>\n",
              "      <td>-75.223639</td>\n",
              "      <td>169</td>\n",
              "      <td>1</td>\n",
              "      <td>{'NoiseLevel': 'u'average'', 'HasTV': 'False',...</td>\n",
              "      <td>Restaurants, Breakfast &amp; Brunch, Food, Juice B...</td>\n",
              "      <td>{'Monday': '7:30-15:0', 'Tuesday': '7:30-15:0'...</td>\n",
              "    </tr>\n",
              "    <tr>\n",
              "      <th>3</th>\n",
              "      <td>WqgTKVqWVHDHjnjEsBvUgg</td>\n",
              "      <td>f7xa0p_1V9lx53iIGN5Sug</td>\n",
              "      <td>XQfwVwDr-v0ZS3_CbbE5Xw</td>\n",
              "      <td>3.0</td>\n",
              "      <td>0</td>\n",
              "      <td>0</td>\n",
              "      <td>0</td>\n",
              "      <td>We came on a Saturday morning after waiting a ...</td>\n",
              "      <td>2017-11-19 02:20:23</td>\n",
              "      <td>Turning Point of North Wales</td>\n",
              "      <td>...</td>\n",
              "      <td>North Wales</td>\n",
              "      <td>PA</td>\n",
              "      <td>19454</td>\n",
              "      <td>40.210196</td>\n",
              "      <td>-75.223639</td>\n",
              "      <td>169</td>\n",
              "      <td>1</td>\n",
              "      <td>{'NoiseLevel': 'u'average'', 'HasTV': 'False',...</td>\n",
              "      <td>Restaurants, Breakfast &amp; Brunch, Food, Juice B...</td>\n",
              "      <td>{'Monday': '7:30-15:0', 'Tuesday': '7:30-15:0'...</td>\n",
              "    </tr>\n",
              "    <tr>\n",
              "      <th>4</th>\n",
              "      <td>M0wzFFb7pefOPcxeRVbLag</td>\n",
              "      <td>dCooFVCk8M1nVaQqcfTL3Q</td>\n",
              "      <td>XQfwVwDr-v0ZS3_CbbE5Xw</td>\n",
              "      <td>2.0</td>\n",
              "      <td>0</td>\n",
              "      <td>0</td>\n",
              "      <td>0</td>\n",
              "      <td>Mediocre at best. The decor is very nice, and ...</td>\n",
              "      <td>2017-09-09 17:49:47</td>\n",
              "      <td>Turning Point of North Wales</td>\n",
              "      <td>...</td>\n",
              "      <td>North Wales</td>\n",
              "      <td>PA</td>\n",
              "      <td>19454</td>\n",
              "      <td>40.210196</td>\n",
              "      <td>-75.223639</td>\n",
              "      <td>169</td>\n",
              "      <td>1</td>\n",
              "      <td>{'NoiseLevel': 'u'average'', 'HasTV': 'False',...</td>\n",
              "      <td>Restaurants, Breakfast &amp; Brunch, Food, Juice B...</td>\n",
              "      <td>{'Monday': '7:30-15:0', 'Tuesday': '7:30-15:0'...</td>\n",
              "    </tr>\n",
              "  </tbody>\n",
              "</table>\n",
              "<p>5 rows × 21 columns</p>\n",
              "</div>"
            ],
            "text/plain": [
              "                review_id                 user_id             business_id  \\\n",
              "0  KU_O5udG6zpxOg-VcAEodg  mh_-eMZ6K5RLWhZyISBhwA  XQfwVwDr-v0ZS3_CbbE5Xw   \n",
              "1  VJxlBnJmCDIy8DFG0kjSow  Iaee7y6zdSB3B-kRCo4z1w  XQfwVwDr-v0ZS3_CbbE5Xw   \n",
              "2  S6pQZQocMB1WHMjTRbt77A  ejFxLGqQcWNLdNByJlIhnQ  XQfwVwDr-v0ZS3_CbbE5Xw   \n",
              "3  WqgTKVqWVHDHjnjEsBvUgg  f7xa0p_1V9lx53iIGN5Sug  XQfwVwDr-v0ZS3_CbbE5Xw   \n",
              "4  M0wzFFb7pefOPcxeRVbLag  dCooFVCk8M1nVaQqcfTL3Q  XQfwVwDr-v0ZS3_CbbE5Xw   \n",
              "\n",
              "   stars  useful  funny  cool  \\\n",
              "0    3.0       0      0     0   \n",
              "1    2.0       0      0     0   \n",
              "2    4.0       2      0     1   \n",
              "3    3.0       0      0     0   \n",
              "4    2.0       0      0     0   \n",
              "\n",
              "                                                text                 date  \\\n",
              "0  If you decide to eat here, just be aware it is...  2018-07-07 22:09:11   \n",
              "1  This is the second time we tried turning point...  2017-05-13 17:06:55   \n",
              "2  The place is cute and the staff was very frien...  2017-08-08 00:58:18   \n",
              "3  We came on a Saturday morning after waiting a ...  2017-11-19 02:20:23   \n",
              "4  Mediocre at best. The decor is very nice, and ...  2017-09-09 17:49:47   \n",
              "\n",
              "                           name  ...         city state postal_code  \\\n",
              "0  Turning Point of North Wales  ...  North Wales    PA       19454   \n",
              "1  Turning Point of North Wales  ...  North Wales    PA       19454   \n",
              "2  Turning Point of North Wales  ...  North Wales    PA       19454   \n",
              "3  Turning Point of North Wales  ...  North Wales    PA       19454   \n",
              "4  Turning Point of North Wales  ...  North Wales    PA       19454   \n",
              "\n",
              "    latitude  longitude  review_count  is_open  \\\n",
              "0  40.210196 -75.223639           169        1   \n",
              "1  40.210196 -75.223639           169        1   \n",
              "2  40.210196 -75.223639           169        1   \n",
              "3  40.210196 -75.223639           169        1   \n",
              "4  40.210196 -75.223639           169        1   \n",
              "\n",
              "                                          attributes  \\\n",
              "0  {'NoiseLevel': 'u'average'', 'HasTV': 'False',...   \n",
              "1  {'NoiseLevel': 'u'average'', 'HasTV': 'False',...   \n",
              "2  {'NoiseLevel': 'u'average'', 'HasTV': 'False',...   \n",
              "3  {'NoiseLevel': 'u'average'', 'HasTV': 'False',...   \n",
              "4  {'NoiseLevel': 'u'average'', 'HasTV': 'False',...   \n",
              "\n",
              "                                          categories  \\\n",
              "0  Restaurants, Breakfast & Brunch, Food, Juice B...   \n",
              "1  Restaurants, Breakfast & Brunch, Food, Juice B...   \n",
              "2  Restaurants, Breakfast & Brunch, Food, Juice B...   \n",
              "3  Restaurants, Breakfast & Brunch, Food, Juice B...   \n",
              "4  Restaurants, Breakfast & Brunch, Food, Juice B...   \n",
              "\n",
              "                                               hours  \n",
              "0  {'Monday': '7:30-15:0', 'Tuesday': '7:30-15:0'...  \n",
              "1  {'Monday': '7:30-15:0', 'Tuesday': '7:30-15:0'...  \n",
              "2  {'Monday': '7:30-15:0', 'Tuesday': '7:30-15:0'...  \n",
              "3  {'Monday': '7:30-15:0', 'Tuesday': '7:30-15:0'...  \n",
              "4  {'Monday': '7:30-15:0', 'Tuesday': '7:30-15:0'...  \n",
              "\n",
              "[5 rows x 21 columns]"
            ]
          },
          "execution_count": 17,
          "metadata": {},
          "output_type": "execute_result"
        }
      ],
      "source": [
        "rich_data.head() # as we can see, we now have a richer dataset, which makes it easier to identify the businesses (as far as the reviews and the users are concerned, it's not important to further enrich the data)"
      ]
    },
    {
      "attachments": {},
      "cell_type": "markdown",
      "metadata": {
        "id": "jJF8bvZHAlfO"
      },
      "source": [
        "For a much cooler visualization, we can use the folium library!"
      ]
    },
    {
      "cell_type": "code",
      "execution_count": null,
      "metadata": {
        "colab": {
          "base_uri": "https://localhost:8080/",
          "height": 1000
        },
        "id": "nVS3YZ1uAtWw",
        "outputId": "8d2efe7c-3cde-4362-f7e9-e7abee179544"
      },
      "outputs": [],
      "source": [
        "import folium\n",
        "\n",
        "fol_fig = folium.Figure(width=1000, height=600)\n",
        "\n",
        "# Create a map object centered at a specific location (e.g., the geographical center of North America (we know the data is from USA and Canada))\n",
        "map_obj = folium.Map(location=[39.7392, -104.9903], zoom_start=4, tiles='Stamen Toner').add_to(fol_fig)\n",
        "\n",
        "sampled_df = rich_data.sample(n=1000) # to speed up execution (up to 1000 works fine, above that it starts to slow down significantly)\n",
        "# Iterate over your dataset and add markers for each data point\n",
        "for index, row in sampled_df.iterrows():\n",
        "    # Extract the latitude and longtude values from your dataframe\n",
        "    latitude = row['latitude']\n",
        "    longitude = row['longitude']\n",
        "    \n",
        "    # Add a marker to the map for each data point\n",
        "    folium.Marker([latitude, longitude]).add_to(map_obj)\n",
        "\n",
        "# Display the map\n",
        "map_obj"
      ]
    },
    {
      "attachments": {},
      "cell_type": "markdown",
      "metadata": {
        "id": "qxl9j3iuIxGp"
      },
      "source": [
        "## Prepare the data "
      ]
    },
    {
      "cell_type": "code",
      "execution_count": 120,
      "metadata": {},
      "outputs": [
        {
          "name": "stdout",
          "output_type": "stream",
          "text": [
            "Training set shape: (69997,) (69997,)\n",
            "Validation set shape: (15003,) (15003,)\n",
            "Testing set shape: (15000,) (15000,)\n"
          ]
        }
      ],
      "source": [
        "# Load your dataset into a pandas DataFrame (assuming 'df' is your DataFrame)\n",
        "# Split the dataset into features (X) and labels (y)\n",
        "X = rich_data['text']\n",
        "y = rich_data['stars']\n",
        "\n",
        "# Split the dataset into training (70%), validation (15%), and testing (15%) sets\n",
        "X_train_val, X_test, y_train_val, y_test = train_test_split(X, y, test_size=0.15, stratify=y, random_state=42)\n",
        "X_train, X_val, y_train, y_val = train_test_split(X_train_val, y_train_val, test_size=0.1765, stratify=y_train_val, random_state=42)\n",
        "\n",
        "print(\"Training set shape:\", X_train.shape, y_train.shape)\n",
        "print(\"Validation set shape:\", X_val.shape, y_val.shape)\n",
        "print(\"Testing set shape:\", X_test.shape, y_test.shape)"
      ]
    },
    {
      "cell_type": "code",
      "execution_count": 121,
      "metadata": {},
      "outputs": [],
      "source": [
        "# need to do some padding...\n",
        "def get_max_review_length(dataframe, column_name):\n",
        "    max_length = 0\n",
        "    for review in dataframe[column_name]:\n",
        "        length = len(review.split())\n",
        "        if length > max_length:\n",
        "            max_length = length\n",
        "    return max_length\n",
        "\n",
        "max_length = get_max_review_length(rich_data, \"text\")"
      ]
    },
    {
      "cell_type": "code",
      "execution_count": 122,
      "metadata": {},
      "outputs": [],
      "source": [
        "# we have the very convenient TextVectorizatoin layer for preprocessing!\n",
        "text_vectorization = layers.TextVectorization(\n",
        "    max_tokens=30_000,\n",
        "    output_mode='multi_hot',\n",
        "    standardize=\"lower_and_strip_punctuation\",\n",
        "    split=\"whitespace\",\n",
        "    # the option below is only useful if output_mode is \"int\" (it takes care of the padding)\n",
        "    # output_sequence_length=max_length,\n",
        ")"
      ]
    },
    {
      "cell_type": "code",
      "execution_count": 123,
      "metadata": {},
      "outputs": [],
      "source": [
        "# Create TensorFlow datasets for the training, validatoin and test data\n",
        "train_dataset = tf.data.Dataset.from_tensor_slices((X_train, y_train))\n",
        "val_dataset = tf.data.Dataset.from_tensor_slices((X_val, y_val))\n",
        "test_dataset = tf.data.Dataset.from_tensor_slices((X_test, y_test))"
      ]
    },
    {
      "cell_type": "code",
      "execution_count": 124,
      "metadata": {},
      "outputs": [],
      "source": [
        "text_vectorization.adapt(train_dataset.map(lambda review, label: review)) # build the vocabulary (might take a while...)"
      ]
    },
    {
      "cell_type": "code",
      "execution_count": 125,
      "metadata": {},
      "outputs": [],
      "source": [
        "# Define the preprocessing pipeline for the datasets\n",
        "def preprocess(review, label):\n",
        "    vectorized_review = text_vectorization(review)\n",
        "    return vectorized_review, label\n",
        "\n",
        "# Apply the preprocessing pipeline to the datasets\n",
        "train_dataset = train_dataset.map(lambda review, label: (text_vectorization(review), label))\n",
        "val_dataset = val_dataset.map(lambda review, label: (text_vectorization(review), label))\n",
        "test_dataset = test_dataset.map(lambda review, label: (text_vectorization(review), label))\n",
        "\n",
        "# Shuffle and batch the training dataset\n",
        "batch_size = 64  # Adjust this value based on your requirements\n",
        "train_dataset = train_dataset.shuffle(len(X_train)).batch(batch_size)\n",
        "\n",
        "# Batch the validation and testing datasets\n",
        "val_dataset = val_dataset.batch(batch_size)\n",
        "test_dataset = test_dataset.batch(batch_size)"
      ]
    },
    {
      "attachments": {},
      "cell_type": "markdown",
      "metadata": {},
      "source": [
        "Let's take a look at the data!"
      ]
    },
    {
      "cell_type": "code",
      "execution_count": 126,
      "metadata": {},
      "outputs": [
        {
          "name": "stderr",
          "output_type": "stream",
          "text": [
            "2023-06-08 19:02:27.899225: I tensorflow/core/kernels/data/shuffle_dataset_op.cc:422] Filling up shuffle buffer (this may take a while): 44716 of 69997\n"
          ]
        },
        {
          "name": "stdout",
          "output_type": "stream",
          "text": [
            "inputs.shape: (64, 30000)\n",
            "inputs.dtype: <dtype: 'float32'>\n",
            "targets.shape: (64,)\n",
            "targets.dtype: <dtype: 'float64'>\n",
            "inputs[0]: tf.Tensor([0. 1. 1. ... 0. 0. 0.], shape=(30000,), dtype=float32)\n",
            "targets[0]: tf.Tensor(5.0, shape=(), dtype=float64)\n"
          ]
        },
        {
          "name": "stderr",
          "output_type": "stream",
          "text": [
            "2023-06-08 19:02:33.537664: I tensorflow/core/kernels/data/shuffle_dataset_op.cc:450] Shuffle buffer filled.\n"
          ]
        }
      ],
      "source": [
        "for inputs, targets in train_dataset:\n",
        "    print(\"inputs.shape:\", inputs.shape)\n",
        "    print(\"inputs.dtype:\", inputs.dtype)\n",
        "\n",
        "    print(\"targets.shape:\", targets.shape)\n",
        "    print(\"targets.dtype:\", targets.dtype)\n",
        "\n",
        "    print(\"inputs[0]:\", inputs[0])\n",
        "    print(\"targets[0]:\", targets[0])\n",
        "    break"
      ]
    },
    {
      "attachments": {},
      "cell_type": "markdown",
      "metadata": {
        "id": "e0KxeRiXvEVX"
      },
      "source": [
        "## Find correct architecture"
      ]
    },
    {
      "attachments": {},
      "cell_type": "markdown",
      "metadata": {},
      "source": [
        "Let's try a simple 1-gram bag-of-words model first:"
      ]
    },
    {
      "cell_type": "code",
      "execution_count": 127,
      "metadata": {},
      "outputs": [],
      "source": [
        "def create_model(input_dim):\n",
        "    input = tf.keras.Input(shape=(input_dim,))\n",
        "\n",
        "    x = layers.Dense(256, activation='relu')(input)  # Dense layer with 32 neurons\n",
        "    x = layers.Dropout(0.5)(x)  # Dropout layer with rate 0.5\n",
        "    x = layers.Dense(256, activation='relu')(x)  # Dense layer with 16 neurons\n",
        "    x = layers.Dropout(0.5)(x)  # Dropout layer with rate 0.5\n",
        "    x = layers.Dense(128, activation='relu')(x)  # Dense layer with 16 neurons\n",
        "    x = layers.Dropout(0.5)(x)  # Dropout layer with rate 0.5\n",
        "    x = layers.Dense(64, activation='relu')(x)  # Dense layer with 16 neurons\n",
        "    x = layers.Dropout(0.5)(x)  # Dropout layer with rate 0.5\n",
        "    x = layers.Dense(64, activation='relu')(x)  # Dense layer with 16 neurons\n",
        "    x = layers.Dropout(0.5)(x)  # Dropout layer with rate 0.5\n",
        "\n",
        "    output = layers.Dense(1)(x)  # Output layer with a single neuron (regression)\n",
        "\n",
        "    model = tf.keras.Model(inputs=input, outputs=output)\n",
        "\n",
        "    optimizer = keras.optimizers.legacy.Adam(learning_rate=0.01)\n",
        "    # Compile the model with mean squared error (MSE) loss for regression\n",
        "    model.compile(optimizer='adam', loss='mse', metrics=['mse'])\n",
        "\n",
        "    return model"
      ]
    },
    {
      "cell_type": "code",
      "execution_count": 128,
      "metadata": {
        "id": "jRZR_3cWvJMj"
      },
      "outputs": [],
      "source": [
        "model = create_model(len(text_vectorization.get_vocabulary()))"
      ]
    },
    {
      "cell_type": "code",
      "execution_count": 129,
      "metadata": {},
      "outputs": [
        {
          "name": "stdout",
          "output_type": "stream",
          "text": [
            "Model: \"model_11\"\n",
            "_________________________________________________________________\n",
            " Layer (type)                Output Shape              Param #   \n",
            "=================================================================\n",
            " input_12 (InputLayer)       [(None, 30000)]           0         \n",
            "                                                                 \n",
            " dense_48 (Dense)            (None, 256)               7680256   \n",
            "                                                                 \n",
            " dropout_37 (Dropout)        (None, 256)               0         \n",
            "                                                                 \n",
            " dense_49 (Dense)            (None, 256)               65792     \n",
            "                                                                 \n",
            " dropout_38 (Dropout)        (None, 256)               0         \n",
            "                                                                 \n",
            " dense_50 (Dense)            (None, 128)               32896     \n",
            "                                                                 \n",
            " dropout_39 (Dropout)        (None, 128)               0         \n",
            "                                                                 \n",
            " dense_51 (Dense)            (None, 64)                8256      \n",
            "                                                                 \n",
            " dropout_40 (Dropout)        (None, 64)                0         \n",
            "                                                                 \n",
            " dense_52 (Dense)            (None, 64)                4160      \n",
            "                                                                 \n",
            " dropout_41 (Dropout)        (None, 64)                0         \n",
            "                                                                 \n",
            " dense_53 (Dense)            (None, 1)                 65        \n",
            "                                                                 \n",
            "=================================================================\n",
            "Total params: 7791425 (29.72 MB)\n",
            "Trainable params: 7791425 (29.72 MB)\n",
            "Non-trainable params: 0 (0.00 Byte)\n",
            "_________________________________________________________________\n"
          ]
        }
      ],
      "source": [
        "model.summary()"
      ]
    },
    {
      "cell_type": "code",
      "execution_count": 130,
      "metadata": {},
      "outputs": [
        {
          "name": "stdout",
          "output_type": "stream",
          "text": [
            "Epoch 1/10\n"
          ]
        },
        {
          "name": "stderr",
          "output_type": "stream",
          "text": [
            "2023-06-08 19:02:45.467360: I tensorflow/core/kernels/data/shuffle_dataset_op.cc:422] Filling up shuffle buffer (this may take a while): 43682 of 69997\n"
          ]
        },
        {
          "name": "stdout",
          "output_type": "stream",
          "text": [
            "   9/1094 [..............................] - ETA: 17s - loss: 14.8724 - mse: 14.8724 - accuracy: 0.0208       "
          ]
        },
        {
          "name": "stderr",
          "output_type": "stream",
          "text": [
            "2023-06-08 19:02:51.360370: I tensorflow/core/kernels/data/shuffle_dataset_op.cc:450] Shuffle buffer filled.\n"
          ]
        },
        {
          "name": "stdout",
          "output_type": "stream",
          "text": [
            "1094/1094 [==============================] - 39s 20ms/step - loss: 1.9316 - mse: 1.9316 - accuracy: 0.1083 - val_loss: 0.6922 - val_mse: 0.6922 - val_accuracy: 0.1092\n",
            "Epoch 2/10\n"
          ]
        },
        {
          "name": "stderr",
          "output_type": "stream",
          "text": [
            "2023-06-08 19:03:22.892685: I tensorflow/core/kernels/data/shuffle_dataset_op.cc:422] Filling up shuffle buffer (this may take a while): 45088 of 69997\n"
          ]
        },
        {
          "name": "stdout",
          "output_type": "stream",
          "text": [
            "  12/1094 [..............................] - ETA: 17s - loss: 1.0134 - mse: 1.0134 - accuracy: 0.1042  "
          ]
        },
        {
          "name": "stderr",
          "output_type": "stream",
          "text": [
            "2023-06-08 19:03:28.478367: I tensorflow/core/kernels/data/shuffle_dataset_op.cc:450] Shuffle buffer filled.\n"
          ]
        },
        {
          "name": "stdout",
          "output_type": "stream",
          "text": [
            "1094/1094 [==============================] - 37s 19ms/step - loss: 1.0365 - mse: 1.0365 - accuracy: 0.1087 - val_loss: 0.5755 - val_mse: 0.5755 - val_accuracy: 0.1092\n",
            "Epoch 3/10\n"
          ]
        },
        {
          "name": "stderr",
          "output_type": "stream",
          "text": [
            "2023-06-08 19:03:59.671306: I tensorflow/core/kernels/data/shuffle_dataset_op.cc:422] Filling up shuffle buffer (this may take a while): 45396 of 69997\n"
          ]
        },
        {
          "name": "stdout",
          "output_type": "stream",
          "text": [
            "   9/1094 [..............................] - ETA: 17s - loss: 0.8347 - mse: 0.8347 - accuracy: 0.1059   "
          ]
        },
        {
          "name": "stderr",
          "output_type": "stream",
          "text": [
            "2023-06-08 19:04:05.168837: I tensorflow/core/kernels/data/shuffle_dataset_op.cc:450] Shuffle buffer filled.\n"
          ]
        },
        {
          "name": "stdout",
          "output_type": "stream",
          "text": [
            "1094/1094 [==============================] - 37s 19ms/step - loss: 0.8670 - mse: 0.8670 - accuracy: 0.1087 - val_loss: 0.6377 - val_mse: 0.6377 - val_accuracy: 0.1092\n",
            "Epoch 4/10\n"
          ]
        },
        {
          "name": "stderr",
          "output_type": "stream",
          "text": [
            "2023-06-08 19:04:36.320117: I tensorflow/core/kernels/data/shuffle_dataset_op.cc:422] Filling up shuffle buffer (this may take a while): 45092 of 69997\n"
          ]
        },
        {
          "name": "stdout",
          "output_type": "stream",
          "text": [
            "   9/1094 [..............................] - ETA: 17s - loss: 0.7557 - mse: 0.7557 - accuracy: 0.1024   "
          ]
        },
        {
          "name": "stderr",
          "output_type": "stream",
          "text": [
            "2023-06-08 19:04:41.933086: I tensorflow/core/kernels/data/shuffle_dataset_op.cc:450] Shuffle buffer filled.\n"
          ]
        },
        {
          "name": "stdout",
          "output_type": "stream",
          "text": [
            "1094/1094 [==============================] - 37s 19ms/step - loss: 0.7285 - mse: 0.7285 - accuracy: 0.1089 - val_loss: 0.5163 - val_mse: 0.5163 - val_accuracy: 0.1092\n",
            "Epoch 5/10\n"
          ]
        },
        {
          "name": "stderr",
          "output_type": "stream",
          "text": [
            "2023-06-08 19:05:13.090815: I tensorflow/core/kernels/data/shuffle_dataset_op.cc:422] Filling up shuffle buffer (this may take a while): 45144 of 69997\n"
          ]
        },
        {
          "name": "stdout",
          "output_type": "stream",
          "text": [
            "   9/1094 [..............................] - ETA: 16s - loss: 0.6149 - mse: 0.6149 - accuracy: 0.1042   "
          ]
        },
        {
          "name": "stderr",
          "output_type": "stream",
          "text": [
            "2023-06-08 19:05:18.649278: I tensorflow/core/kernels/data/shuffle_dataset_op.cc:450] Shuffle buffer filled.\n"
          ]
        },
        {
          "name": "stdout",
          "output_type": "stream",
          "text": [
            "1094/1094 [==============================] - 37s 19ms/step - loss: 0.6271 - mse: 0.6271 - accuracy: 0.1082 - val_loss: 0.5322 - val_mse: 0.5322 - val_accuracy: 0.1092\n",
            "Epoch 6/10\n"
          ]
        },
        {
          "name": "stderr",
          "output_type": "stream",
          "text": [
            "2023-06-08 19:05:49.928181: I tensorflow/core/kernels/data/shuffle_dataset_op.cc:422] Filling up shuffle buffer (this may take a while): 44965 of 69997\n"
          ]
        },
        {
          "name": "stdout",
          "output_type": "stream",
          "text": [
            "  12/1094 [..............................] - ETA: 17s - loss: 0.5875 - mse: 0.5875 - accuracy: 0.1146  "
          ]
        },
        {
          "name": "stderr",
          "output_type": "stream",
          "text": [
            "2023-06-08 19:05:55.601611: I tensorflow/core/kernels/data/shuffle_dataset_op.cc:450] Shuffle buffer filled.\n"
          ]
        },
        {
          "name": "stdout",
          "output_type": "stream",
          "text": [
            "1094/1094 [==============================] - 37s 19ms/step - loss: 0.5603 - mse: 0.5603 - accuracy: 0.1070 - val_loss: 0.5351 - val_mse: 0.5351 - val_accuracy: 0.1092\n",
            "Epoch 7/10\n"
          ]
        },
        {
          "name": "stderr",
          "output_type": "stream",
          "text": [
            "2023-06-08 19:06:26.890537: I tensorflow/core/kernels/data/shuffle_dataset_op.cc:422] Filling up shuffle buffer (this may take a while): 45047 of 69997\n"
          ]
        },
        {
          "name": "stdout",
          "output_type": "stream",
          "text": [
            "   8/1094 [..............................] - ETA: 18s - loss: 0.6078 - mse: 0.6078 - accuracy: 0.1152   "
          ]
        },
        {
          "name": "stderr",
          "output_type": "stream",
          "text": [
            "2023-06-08 19:06:32.491920: I tensorflow/core/kernels/data/shuffle_dataset_op.cc:450] Shuffle buffer filled.\n"
          ]
        },
        {
          "name": "stdout",
          "output_type": "stream",
          "text": [
            "1094/1094 [==============================] - 37s 20ms/step - loss: 0.5135 - mse: 0.5135 - accuracy: 0.1063 - val_loss: 0.5506 - val_mse: 0.5506 - val_accuracy: 0.1092\n",
            "Epoch 8/10\n"
          ]
        },
        {
          "name": "stderr",
          "output_type": "stream",
          "text": [
            "2023-06-08 19:07:03.849291: I tensorflow/core/kernels/data/shuffle_dataset_op.cc:422] Filling up shuffle buffer (this may take a while): 45011 of 69997\n"
          ]
        },
        {
          "name": "stdout",
          "output_type": "stream",
          "text": [
            "  11/1094 [..............................] - ETA: 17s - loss: 0.4567 - mse: 0.4567 - accuracy: 0.1023  "
          ]
        },
        {
          "name": "stderr",
          "output_type": "stream",
          "text": [
            "2023-06-08 19:07:09.466923: I tensorflow/core/kernels/data/shuffle_dataset_op.cc:450] Shuffle buffer filled.\n"
          ]
        },
        {
          "name": "stdout",
          "output_type": "stream",
          "text": [
            "1094/1094 [==============================] - 37s 20ms/step - loss: 0.4690 - mse: 0.4690 - accuracy: 0.1058 - val_loss: 0.5338 - val_mse: 0.5338 - val_accuracy: 0.1092\n",
            "Epoch 9/10\n"
          ]
        },
        {
          "name": "stderr",
          "output_type": "stream",
          "text": [
            "2023-06-08 19:07:40.984000: I tensorflow/core/kernels/data/shuffle_dataset_op.cc:422] Filling up shuffle buffer (this may take a while): 45240 of 69997\n"
          ]
        },
        {
          "name": "stdout",
          "output_type": "stream",
          "text": [
            "   7/1094 [..............................] - ETA: 19s - loss: 0.4622 - mse: 0.4622 - accuracy: 0.1004   "
          ]
        },
        {
          "name": "stderr",
          "output_type": "stream",
          "text": [
            "2023-06-08 19:07:46.522199: I tensorflow/core/kernels/data/shuffle_dataset_op.cc:450] Shuffle buffer filled.\n"
          ]
        },
        {
          "name": "stdout",
          "output_type": "stream",
          "text": [
            "1094/1094 [==============================] - 37s 19ms/step - loss: 0.4477 - mse: 0.4477 - accuracy: 0.1054 - val_loss: 0.5707 - val_mse: 0.5707 - val_accuracy: 0.1092\n",
            "Epoch 10/10\n"
          ]
        },
        {
          "name": "stderr",
          "output_type": "stream",
          "text": [
            "2023-06-08 19:08:17.697207: I tensorflow/core/kernels/data/shuffle_dataset_op.cc:422] Filling up shuffle buffer (this may take a while): 45339 of 69997\n"
          ]
        },
        {
          "name": "stdout",
          "output_type": "stream",
          "text": [
            "  11/1094 [..............................] - ETA: 18s - loss: 0.3943 - mse: 0.3943 - accuracy: 0.0938  "
          ]
        },
        {
          "name": "stderr",
          "output_type": "stream",
          "text": [
            "2023-06-08 19:08:23.359822: I tensorflow/core/kernels/data/shuffle_dataset_op.cc:450] Shuffle buffer filled.\n"
          ]
        },
        {
          "name": "stdout",
          "output_type": "stream",
          "text": [
            "1094/1094 [==============================] - 37s 20ms/step - loss: 0.4241 - mse: 0.4241 - accuracy: 0.1052 - val_loss: 0.5785 - val_mse: 0.5785 - val_accuracy: 0.1092\n"
          ]
        }
      ],
      "source": [
        "history = model.fit(\n",
        "    train_dataset,\n",
        "    validation_data=val_dataset,\n",
        "    epochs=10\n",
        ")"
      ]
    },
    {
      "cell_type": "code",
      "execution_count": 131,
      "metadata": {},
      "outputs": [],
      "source": [
        "import matplotlib.pyplot as plt\n",
        "\n",
        "def plot_training_curves(history):\n",
        "    # Plot loss\n",
        "    plt.plot(history.history['loss'], label='Training Loss')\n",
        "    plt.plot(history.history['val_loss'], label='Validation Loss')\n",
        "    plt.title('Training and Validation Loss')\n",
        "    plt.xlabel('Epochs')\n",
        "    plt.ylabel('Loss')\n",
        "    plt.legend()\n",
        "    plt.show()"
      ]
    },
    {
      "cell_type": "code",
      "execution_count": 132,
      "metadata": {},
      "outputs": [
        {
          "data": {
            "image/png": "[encoded data removed]",
            "text/plain": [
              "<Figure size 640x480 with 1 Axes>"
            ]
          },
          "metadata": {},
          "output_type": "display_data"
        }
      ],
      "source": [
        "plot_training_curves(history)"
      ]
    }
  ],
  "metadata": {
    "colab": {
      "provenance": []
    },
    "kernelspec": {
      "display_name": "Python 3",
      "name": "python3"
    },
    "language_info": {
      "codemirror_mode": {
        "name": "ipython",
        "version": 3
      },
      "file_extension": ".py",
      "mimetype": "text/x-python",
      "name": "python",
      "nbconvert_exporter": "python",
      "pygments_lexer": "ipython3",
      "version": "3.11.3"
    }
  },
  "nbformat": 4,
  "nbformat_minor": 0
}
